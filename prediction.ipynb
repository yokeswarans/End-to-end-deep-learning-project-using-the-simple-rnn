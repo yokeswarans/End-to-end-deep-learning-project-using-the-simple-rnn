{
 "cells": [
  {
   "cell_type": "code",
   "execution_count": 1,
   "id": "dbac4873",
   "metadata": {},
   "outputs": [],
   "source": [
    "## import libraries and load models\n",
    "import numpy as np\n",
    "import tensorflow as tf\n",
    "from tensorflow.keras.datasets import imdb\n",
    "\n",
    "from tensorflow.keras.preprocessing import sequence\n",
    "from tensorflow.keras.models import load_model"
   ]
  },
  {
   "cell_type": "code",
   "execution_count": 3,
   "id": "fe11c303",
   "metadata": {},
   "outputs": [],
   "source": [
    "## load the IMDB dataset word index\n",
    "word_index=imdb.get_word_index()\n",
    "reversed_word_index={value:key for key,value in word_index.items()}\n"
   ]
  },
  {
   "cell_type": "code",
   "execution_count": 4,
   "id": "1f28efb1",
   "metadata": {},
   "outputs": [
    {
     "name": "stderr",
     "output_type": "stream",
     "text": [
      "WARNING:absl:Compiled the loaded model, but the compiled metrics have yet to be built. `model.compile_metrics` will be empty until you train or evaluate the model.\n"
     ]
    },
    {
     "data": {
      "text/html": [
       "<pre style=\"white-space:pre;overflow-x:auto;line-height:normal;font-family:Menlo,'DejaVu Sans Mono',consolas,'Courier New',monospace\"><span style=\"font-weight: bold\">Model: \"sequential_1\"</span>\n",
       "</pre>\n"
      ],
      "text/plain": [
       "\u001b[1mModel: \"sequential_1\"\u001b[0m\n"
      ]
     },
     "metadata": {},
     "output_type": "display_data"
    },
    {
     "data": {
      "text/html": [
       "<pre style=\"white-space:pre;overflow-x:auto;line-height:normal;font-family:Menlo,'DejaVu Sans Mono',consolas,'Courier New',monospace\">┏━━━━━━━━━━━━━━━━━━━━━━━━━━━━━━━━━┳━━━━━━━━━━━━━━━━━━━━━━━━┳━━━━━━━━━━━━━━━┓\n",
       "┃<span style=\"font-weight: bold\"> Layer (type)                    </span>┃<span style=\"font-weight: bold\"> Output Shape           </span>┃<span style=\"font-weight: bold\">       Param # </span>┃\n",
       "┡━━━━━━━━━━━━━━━━━━━━━━━━━━━━━━━━━╇━━━━━━━━━━━━━━━━━━━━━━━━╇━━━━━━━━━━━━━━━┩\n",
       "│ embedding_1 (<span style=\"color: #0087ff; text-decoration-color: #0087ff\">Embedding</span>)         │ (<span style=\"color: #00d7ff; text-decoration-color: #00d7ff\">None</span>, <span style=\"color: #00af00; text-decoration-color: #00af00\">500</span>, <span style=\"color: #00af00; text-decoration-color: #00af00\">128</span>)       │     <span style=\"color: #00af00; text-decoration-color: #00af00\">1,280,000</span> │\n",
       "├─────────────────────────────────┼────────────────────────┼───────────────┤\n",
       "│ simple_rnn_1 (<span style=\"color: #0087ff; text-decoration-color: #0087ff\">SimpleRNN</span>)        │ (<span style=\"color: #00d7ff; text-decoration-color: #00d7ff\">None</span>, <span style=\"color: #00af00; text-decoration-color: #00af00\">128</span>)            │        <span style=\"color: #00af00; text-decoration-color: #00af00\">32,896</span> │\n",
       "├─────────────────────────────────┼────────────────────────┼───────────────┤\n",
       "│ dense_1 (<span style=\"color: #0087ff; text-decoration-color: #0087ff\">Dense</span>)                 │ (<span style=\"color: #00d7ff; text-decoration-color: #00d7ff\">None</span>, <span style=\"color: #00af00; text-decoration-color: #00af00\">1</span>)              │           <span style=\"color: #00af00; text-decoration-color: #00af00\">129</span> │\n",
       "└─────────────────────────────────┴────────────────────────┴───────────────┘\n",
       "</pre>\n"
      ],
      "text/plain": [
       "┏━━━━━━━━━━━━━━━━━━━━━━━━━━━━━━━━━┳━━━━━━━━━━━━━━━━━━━━━━━━┳━━━━━━━━━━━━━━━┓\n",
       "┃\u001b[1m \u001b[0m\u001b[1mLayer (type)                   \u001b[0m\u001b[1m \u001b[0m┃\u001b[1m \u001b[0m\u001b[1mOutput Shape          \u001b[0m\u001b[1m \u001b[0m┃\u001b[1m \u001b[0m\u001b[1m      Param #\u001b[0m\u001b[1m \u001b[0m┃\n",
       "┡━━━━━━━━━━━━━━━━━━━━━━━━━━━━━━━━━╇━━━━━━━━━━━━━━━━━━━━━━━━╇━━━━━━━━━━━━━━━┩\n",
       "│ embedding_1 (\u001b[38;5;33mEmbedding\u001b[0m)         │ (\u001b[38;5;45mNone\u001b[0m, \u001b[38;5;34m500\u001b[0m, \u001b[38;5;34m128\u001b[0m)       │     \u001b[38;5;34m1,280,000\u001b[0m │\n",
       "├─────────────────────────────────┼────────────────────────┼───────────────┤\n",
       "│ simple_rnn_1 (\u001b[38;5;33mSimpleRNN\u001b[0m)        │ (\u001b[38;5;45mNone\u001b[0m, \u001b[38;5;34m128\u001b[0m)            │        \u001b[38;5;34m32,896\u001b[0m │\n",
       "├─────────────────────────────────┼────────────────────────┼───────────────┤\n",
       "│ dense_1 (\u001b[38;5;33mDense\u001b[0m)                 │ (\u001b[38;5;45mNone\u001b[0m, \u001b[38;5;34m1\u001b[0m)              │           \u001b[38;5;34m129\u001b[0m │\n",
       "└─────────────────────────────────┴────────────────────────┴───────────────┘\n"
      ]
     },
     "metadata": {},
     "output_type": "display_data"
    },
    {
     "data": {
      "text/html": [
       "<pre style=\"white-space:pre;overflow-x:auto;line-height:normal;font-family:Menlo,'DejaVu Sans Mono',consolas,'Courier New',monospace\"><span style=\"font-weight: bold\"> Total params: </span><span style=\"color: #00af00; text-decoration-color: #00af00\">1,313,027</span> (5.01 MB)\n",
       "</pre>\n"
      ],
      "text/plain": [
       "\u001b[1m Total params: \u001b[0m\u001b[38;5;34m1,313,027\u001b[0m (5.01 MB)\n"
      ]
     },
     "metadata": {},
     "output_type": "display_data"
    },
    {
     "data": {
      "text/html": [
       "<pre style=\"white-space:pre;overflow-x:auto;line-height:normal;font-family:Menlo,'DejaVu Sans Mono',consolas,'Courier New',monospace\"><span style=\"font-weight: bold\"> Trainable params: </span><span style=\"color: #00af00; text-decoration-color: #00af00\">1,313,025</span> (5.01 MB)\n",
       "</pre>\n"
      ],
      "text/plain": [
       "\u001b[1m Trainable params: \u001b[0m\u001b[38;5;34m1,313,025\u001b[0m (5.01 MB)\n"
      ]
     },
     "metadata": {},
     "output_type": "display_data"
    },
    {
     "data": {
      "text/html": [
       "<pre style=\"white-space:pre;overflow-x:auto;line-height:normal;font-family:Menlo,'DejaVu Sans Mono',consolas,'Courier New',monospace\"><span style=\"font-weight: bold\"> Non-trainable params: </span><span style=\"color: #00af00; text-decoration-color: #00af00\">0</span> (0.00 B)\n",
       "</pre>\n"
      ],
      "text/plain": [
       "\u001b[1m Non-trainable params: \u001b[0m\u001b[38;5;34m0\u001b[0m (0.00 B)\n"
      ]
     },
     "metadata": {},
     "output_type": "display_data"
    },
    {
     "data": {
      "text/html": [
       "<pre style=\"white-space:pre;overflow-x:auto;line-height:normal;font-family:Menlo,'DejaVu Sans Mono',consolas,'Courier New',monospace\"><span style=\"font-weight: bold\"> Optimizer params: </span><span style=\"color: #00af00; text-decoration-color: #00af00\">2</span> (12.00 B)\n",
       "</pre>\n"
      ],
      "text/plain": [
       "\u001b[1m Optimizer params: \u001b[0m\u001b[38;5;34m2\u001b[0m (12.00 B)\n"
      ]
     },
     "metadata": {},
     "output_type": "display_data"
    }
   ],
   "source": [
    "## Load the pretrained model with RELU activation\n",
    "model=load_model('Simple_RNN_imdb.h5')\n",
    "model.summary()"
   ]
  },
  {
   "cell_type": "code",
   "execution_count": 6,
   "id": "9fc42c54",
   "metadata": {},
   "outputs": [
    {
     "data": {
      "text/plain": [
       "[array([[-3.6853713e-01,  2.4137466e-01, -4.1120857e-01, ...,\n",
       "          3.7607196e-01, -4.7380087e-01, -4.2637166e-01],\n",
       "        [-2.2224581e-02, -1.0292140e-02, -5.4379553e-02, ...,\n",
       "          2.8766250e-02, -2.7276661e-02, -4.3315172e-02],\n",
       "        [ 3.0494371e-02, -1.3132329e-01, -9.8839760e-02, ...,\n",
       "         -1.9509599e-02, -1.4472190e-01,  2.9629613e-03],\n",
       "        ...,\n",
       "        [-4.0582032e-04, -4.1307444e-03,  5.8329515e-02, ...,\n",
       "          6.0630184e-02, -1.8546620e-02,  9.3311854e-02],\n",
       "        [-2.5110446e-02, -4.4488494e-04, -6.3798763e-02, ...,\n",
       "         -6.2125906e-02, -9.2001446e-03, -5.5400457e-02],\n",
       "        [ 1.1070012e-01,  5.4188408e-02,  4.3003522e-03, ...,\n",
       "          4.6403814e-02, -3.3436142e-02,  5.7913609e-02]], dtype=float32),\n",
       " array([[ 0.1837068 ,  0.08963349,  0.05942977, ..., -0.16963997,\n",
       "         -0.04966439, -0.11948219],\n",
       "        [ 0.11457757, -0.04058474, -0.0053206 , ..., -0.09190337,\n",
       "         -0.03050862,  0.133111  ],\n",
       "        [ 0.02544452,  0.09530971, -0.04938863, ...,  0.03641751,\n",
       "          0.10580131,  0.08107717],\n",
       "        ...,\n",
       "        [-0.06696881,  0.08304036,  0.02112204, ..., -0.09733316,\n",
       "         -0.04995063, -0.16667089],\n",
       "        [ 0.10882936,  0.05670422,  0.01560796, ..., -0.01478251,\n",
       "          0.09092508, -0.02842448],\n",
       "        [ 0.16218008, -0.02086714,  0.00603882, ...,  0.06471734,\n",
       "         -0.00580326,  0.10872374]], dtype=float32),\n",
       " array([[-0.06743014, -0.04206221, -0.17760651, ..., -0.04037824,\n",
       "          0.08124127, -0.06713028],\n",
       "        [ 0.1441773 ,  0.08015975, -0.17313969, ...,  0.03838332,\n",
       "          0.08152377, -0.00237795],\n",
       "        [-0.04894271, -0.03206838, -0.08509011, ..., -0.18703513,\n",
       "          0.0071656 ,  0.18878275],\n",
       "        ...,\n",
       "        [ 0.03198163, -0.12098372,  0.00913604, ...,  0.02906084,\n",
       "          0.11016443, -0.02389736],\n",
       "        [-0.05747545, -0.02635501, -0.10006453, ..., -0.00074393,\n",
       "          0.00273588, -0.0342359 ],\n",
       "        [-0.00120296,  0.17000161, -0.1702059 , ..., -0.08481283,\n",
       "          0.01912701, -0.00141246]], dtype=float32),\n",
       " array([ 0.02636001,  0.00228459,  0.01008451, -0.01223888,  0.03117944,\n",
       "        -0.0132096 , -0.02068737, -0.02403191, -0.00863345, -0.03338519,\n",
       "        -0.03038379, -0.01435012, -0.01648532, -0.01205362,  0.00627999,\n",
       "        -0.01164659,  0.00796072, -0.02395513, -0.01291535, -0.01927298,\n",
       "        -0.00228555, -0.03430515,  0.00640828, -0.01564126, -0.03012192,\n",
       "         0.00550352, -0.02448553, -0.02754607, -0.00177205, -0.01180243,\n",
       "        -0.01977133,  0.03086349, -0.02142024,  0.01152728, -0.01691452,\n",
       "         0.01791798, -0.0142273 , -0.02389228,  0.01425858,  0.0195536 ,\n",
       "        -0.01317987,  0.00717063, -0.00502025,  0.00190721, -0.00438326,\n",
       "        -0.0179607 , -0.01153105, -0.01569623,  0.00732677,  0.02304567,\n",
       "        -0.00618299,  0.00725698,  0.01188902,  0.00829208,  0.02638783,\n",
       "        -0.01825964, -0.00302866, -0.0078824 , -0.01186156,  0.00383732,\n",
       "        -0.03762963, -0.02693789,  0.0282724 , -0.01961244,  0.01048217,\n",
       "        -0.00174722, -0.028668  ,  0.0036732 ,  0.00564321, -0.00142315,\n",
       "        -0.0359992 , -0.02001832,  0.0041751 ,  0.00136795, -0.00050494,\n",
       "        -0.04668311, -0.0216131 ,  0.00938563, -0.0263024 ,  0.03574412,\n",
       "        -0.02333001, -0.02657086, -0.02432549, -0.0295564 , -0.03987845,\n",
       "        -0.01960691,  0.00109397, -0.04429153,  0.00717728, -0.00894415,\n",
       "         0.00728557, -0.00476973,  0.02770598, -0.00854149, -0.01594891,\n",
       "        -0.03048473,  0.0383677 , -0.035376  , -0.01077248, -0.01057129,\n",
       "         0.01015334, -0.01780236, -0.00050567, -0.0122587 , -0.01108702,\n",
       "         0.01690565, -0.01117851,  0.0078955 ,  0.04231415, -0.02716395,\n",
       "        -0.02232494,  0.01358818, -0.01055324, -0.02210021,  0.01696311,\n",
       "        -0.02448219,  0.01254261, -0.01501697, -0.0065849 ,  0.02919981,\n",
       "        -0.00775277,  0.00957744,  0.02194663,  0.00770816,  0.00732372,\n",
       "        -0.02679752, -0.0094445 , -0.01506649], dtype=float32),\n",
       " array([[ 0.23977044],\n",
       "        [-0.21837018],\n",
       "        [-0.2041004 ],\n",
       "        [ 0.06407435],\n",
       "        [-0.33343738],\n",
       "        [-0.11251457],\n",
       "        [ 0.02795118],\n",
       "        [ 0.02019807],\n",
       "        [ 0.22220096],\n",
       "        [ 0.08280722],\n",
       "        [ 0.07990965],\n",
       "        [-0.32089895],\n",
       "        [ 0.9802749 ],\n",
       "        [ 0.18336444],\n",
       "        [ 0.11556792],\n",
       "        [-0.03256511],\n",
       "        [ 0.1000986 ],\n",
       "        [ 0.06219843],\n",
       "        [-0.24603322],\n",
       "        [-0.06654395],\n",
       "        [ 0.16883639],\n",
       "        [ 0.10553659],\n",
       "        [ 0.11376504],\n",
       "        [ 0.197654  ],\n",
       "        [ 0.02516139],\n",
       "        [ 0.21114151],\n",
       "        [-0.18077043],\n",
       "        [-0.17559886],\n",
       "        [ 0.04388791],\n",
       "        [ 0.14519347],\n",
       "        [ 0.17494504],\n",
       "        [-0.24108844],\n",
       "        [-0.01760744],\n",
       "        [ 0.04048071],\n",
       "        [ 0.0970082 ],\n",
       "        [ 0.24586555],\n",
       "        [ 0.15113798],\n",
       "        [ 0.18302168],\n",
       "        [ 0.02393762],\n",
       "        [-0.0221401 ],\n",
       "        [ 0.17320852],\n",
       "        [-0.24004903],\n",
       "        [-0.03498025],\n",
       "        [-0.31830016],\n",
       "        [-0.04814543],\n",
       "        [ 0.06524317],\n",
       "        [-0.34558347],\n",
       "        [ 0.12647454],\n",
       "        [-0.15032983],\n",
       "        [-0.0206446 ],\n",
       "        [ 0.16950604],\n",
       "        [ 0.0717264 ],\n",
       "        [ 0.13140954],\n",
       "        [ 0.20052765],\n",
       "        [-0.16945812],\n",
       "        [ 0.17630987],\n",
       "        [ 0.03858548],\n",
       "        [ 0.00727503],\n",
       "        [ 0.1794706 ],\n",
       "        [ 0.12758572],\n",
       "        [-0.04377753],\n",
       "        [ 0.12052226],\n",
       "        [-0.17050302],\n",
       "        [ 0.07320105],\n",
       "        [-0.07251791],\n",
       "        [ 0.12834147],\n",
       "        [-0.3582336 ],\n",
       "        [-0.1476715 ],\n",
       "        [ 0.00673771],\n",
       "        [-0.7683948 ],\n",
       "        [-0.18229064],\n",
       "        [-0.68537855],\n",
       "        [ 0.21865478],\n",
       "        [-0.21042757],\n",
       "        [-0.08945651],\n",
       "        [-0.12804249],\n",
       "        [ 0.01787803],\n",
       "        [-0.02917681],\n",
       "        [ 1.0724108 ],\n",
       "        [ 0.07790282],\n",
       "        [ 0.20591922],\n",
       "        [-0.52542925],\n",
       "        [ 0.1037055 ],\n",
       "        [-0.123583  ],\n",
       "        [ 0.05378183],\n",
       "        [ 0.03723585],\n",
       "        [ 0.23770441],\n",
       "        [-0.05049472],\n",
       "        [ 0.06522056],\n",
       "        [ 0.1086999 ],\n",
       "        [ 0.1776993 ],\n",
       "        [-0.04625636],\n",
       "        [-0.24081454],\n",
       "        [ 0.05891044],\n",
       "        [ 0.23648204],\n",
       "        [-0.3512732 ],\n",
       "        [ 0.17661041],\n",
       "        [-0.00312046],\n",
       "        [-0.5091564 ],\n",
       "        [-0.2114016 ],\n",
       "        [ 0.1441784 ],\n",
       "        [-0.20804659],\n",
       "        [-0.09508131],\n",
       "        [ 0.19610278],\n",
       "        [ 0.10981672],\n",
       "        [ 0.08983187],\n",
       "        [ 0.0300365 ],\n",
       "        [ 0.3261335 ],\n",
       "        [ 0.04750555],\n",
       "        [ 0.1612081 ],\n",
       "        [-0.21239172],\n",
       "        [-0.0552112 ],\n",
       "        [-0.19326057],\n",
       "        [ 0.11693802],\n",
       "        [-0.25908646],\n",
       "        [ 0.17916267],\n",
       "        [ 0.21701406],\n",
       "        [-0.04982514],\n",
       "        [-0.06196542],\n",
       "        [-0.25356042],\n",
       "        [ 0.00184369],\n",
       "        [-0.00269222],\n",
       "        [ 0.13003972],\n",
       "        [ 0.17341167],\n",
       "        [-0.18883091],\n",
       "        [ 0.04871436],\n",
       "        [-0.10594625],\n",
       "        [-0.37958917]], dtype=float32),\n",
       " array([0.7977904], dtype=float32)]"
      ]
     },
     "execution_count": 6,
     "metadata": {},
     "output_type": "execute_result"
    }
   ],
   "source": [
    "model.get_weights()"
   ]
  },
  {
   "cell_type": "code",
   "execution_count": 10,
   "id": "03b213db",
   "metadata": {},
   "outputs": [],
   "source": [
    "## Helper function\n",
    "## function to decode the reviews\n",
    "\n",
    "def decode_review(encoded_review):\n",
    "    return ' '.join([reversed_word_index.get(i -3,'?') for i in encoded_review])\n",
    "\n",
    "## Function to preprocess user input\n",
    "def preprocess_text(text):\n",
    "    words=text.lower().split()\n",
    "    encoded_review=[word_index.get(word,2) + 3 for word in words]\n",
    "    padded_review= sequence.pad_sequences([encoded_review],maxlen=500)\n",
    "    return padded_review\n",
    "\n"
   ]
  },
  {
   "cell_type": "code",
   "execution_count": null,
   "id": "cec4d478",
   "metadata": {},
   "outputs": [
    {
     "data": {
      "text/plain": [
       "array([[ 0,  0,  0,  0,  0,  0,  0,  0,  0,  0,  0,  0,  0,  0,  0,  0,\n",
       "         0,  0,  0,  0,  0,  0,  0,  0,  0,  0,  0,  0,  0,  0,  0,  0,\n",
       "         0,  0,  0,  0,  0,  0,  0,  0,  0,  0,  0,  0,  0,  0,  0,  0,\n",
       "         0,  0,  0,  0,  0,  0,  0,  0,  0,  0,  0,  0,  0,  0,  0,  0,\n",
       "         0,  0,  0,  0,  0,  0,  0,  0,  0,  0,  0,  0,  0,  0,  0,  0,\n",
       "         0,  0,  0,  0,  0,  0,  0,  0,  0,  0,  0,  0,  0,  0,  0,  0,\n",
       "         0,  0,  0,  0,  0,  0,  0,  0,  0,  0,  0,  0,  0,  0,  0,  0,\n",
       "         0,  0,  0,  0,  0,  0,  0,  0,  0,  0,  0,  0,  0,  0,  0,  0,\n",
       "         0,  0,  0,  0,  0,  0,  0,  0,  0,  0,  0,  0,  0,  0,  0,  0,\n",
       "         0,  0,  0,  0,  0,  0,  0,  0,  0,  0,  0,  0,  0,  0,  0,  0,\n",
       "         0,  0,  0,  0,  0,  0,  0,  0,  0,  0,  0,  0,  0,  0,  0,  0,\n",
       "         0,  0,  0,  0,  0,  0,  0,  0,  0,  0,  0,  0,  0,  0,  0,  0,\n",
       "         0,  0,  0,  0,  0,  0,  0,  0,  0,  0,  0,  0,  0,  0,  0,  0,\n",
       "         0,  0,  0,  0,  0,  0,  0,  0,  0,  0,  0,  0,  0,  0,  0,  0,\n",
       "         0,  0,  0,  0,  0,  0,  0,  0,  0,  0,  0,  0,  0,  0,  0,  0,\n",
       "         0,  0,  0,  0,  0,  0,  0,  0,  0,  0,  0,  0,  0,  0,  0,  0,\n",
       "         0,  0,  0,  0,  0,  0,  0,  0,  0,  0,  0,  0,  0,  0,  0,  0,\n",
       "         0,  0,  0,  0,  0,  0,  0,  0,  0,  0,  0,  0,  0,  0,  0,  0,\n",
       "         0,  0,  0,  0,  0,  0,  0,  0,  0,  0,  0,  0,  0,  0,  0,  0,\n",
       "         0,  0,  0,  0,  0,  0,  0,  0,  0,  0,  0,  0,  0,  0,  0,  0,\n",
       "         0,  0,  0,  0,  0,  0,  0,  0,  0,  0,  0,  0,  0,  0,  0,  0,\n",
       "         0,  0,  0,  0,  0,  0,  0,  0,  0,  0,  0,  0,  0,  0,  0,  0,\n",
       "         0,  0,  0,  0,  0,  0,  0,  0,  0,  0,  0,  0,  0,  0,  0,  0,\n",
       "         0,  0,  0,  0,  0,  0,  0,  0,  0,  0,  0,  0,  0,  0,  0,  0,\n",
       "         0,  0,  0,  0,  0,  0,  0,  0,  0,  0,  0,  0,  0,  0,  0,  0,\n",
       "         0,  0,  0,  0,  0,  0,  0,  0,  0,  0,  0,  0,  0,  0,  0,  0,\n",
       "         0,  0,  0,  0,  0,  0,  0,  0,  0,  0,  0,  0,  0,  0,  0,  0,\n",
       "         0,  0,  0,  0,  0,  0,  0,  0,  0,  0,  0,  0,  0,  0,  0,  0,\n",
       "         0,  0,  0,  0,  0,  0,  0,  0,  0,  0,  0,  0,  0,  0,  0,  0,\n",
       "         0,  0,  0,  0,  0,  0,  0,  0,  0,  0,  0,  0,  0,  0,  0,  0,\n",
       "         0,  0,  0,  0,  0,  0,  0,  0,  0,  0,  0,  0,  0,  0,  0,  0,\n",
       "         0,  0,  0, 22]])"
      ]
     },
     "execution_count": 12,
     "metadata": {},
     "output_type": "execute_result"
    }
   ],
   "source": [
    "    preprocess_text(\"film\")"
   ]
  },
  {
   "cell_type": "code",
   "execution_count": 13,
   "id": "d90b0aea",
   "metadata": {},
   "outputs": [],
   "source": [
    "## prediction function\n",
    "\n",
    "def predict_sentiment(review):\n",
    "    preprocess_input=preprocess_text(review)\n",
    "    prediction=model.predict(preprocess_input)\n",
    "\n",
    "    sentiment='Positive' if prediction[0][0] > 0.5 else 'Negative'\n",
    "\n",
    "    return sentiment,prediction[0][0]\n",
    "\n",
    "\n"
   ]
  },
  {
   "cell_type": "code",
   "execution_count": 29,
   "id": "4008e559",
   "metadata": {},
   "outputs": [
    {
     "name": "stdout",
     "output_type": "stream",
     "text": [
      "\u001b[1m1/1\u001b[0m \u001b[32m━━━━━━━━━━━━━━━━━━━━\u001b[0m\u001b[37m\u001b[0m \u001b[1m0s\u001b[0m 52ms/step\n",
      "Review: nice  movie \n",
      "Sentiment: Positive\n",
      "Prediction Score: 0.7226952910423279\n"
     ]
    }
   ],
   "source": [
    "## user input and prediction\n",
    "## example review of prediction\n",
    "\n",
    "#example_review=\"This movie was normal ! the acting was great and plot was thrilling.\"\n",
    "example_review=\"nice  movie \"\n",
    "sentiment,score=predict_sentiment(example_review)\n",
    "\n",
    "print(f'Review: {example_review}')\n",
    "print(f'Sentiment: {sentiment}')\n",
    "print(f'Prediction Score: {score}')"
   ]
  },
  {
   "cell_type": "code",
   "execution_count": null,
   "id": "27f9e611",
   "metadata": {},
   "outputs": [],
   "source": []
  }
 ],
 "metadata": {
  "kernelspec": {
   "display_name": "Python 3",
   "language": "python",
   "name": "python3"
  },
  "language_info": {
   "codemirror_mode": {
    "name": "ipython",
    "version": 3
   },
   "file_extension": ".py",
   "mimetype": "text/x-python",
   "name": "python",
   "nbconvert_exporter": "python",
   "pygments_lexer": "ipython3",
   "version": "3.11.0"
  }
 },
 "nbformat": 4,
 "nbformat_minor": 5
}
